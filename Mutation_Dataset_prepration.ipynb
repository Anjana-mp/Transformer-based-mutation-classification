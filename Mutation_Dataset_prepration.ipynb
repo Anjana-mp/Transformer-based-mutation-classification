{
 "cells": [
  {
   "cell_type": "code",
   "execution_count": 1,
   "id": "e71a9328",
   "metadata": {},
   "outputs": [],
   "source": [
    "from transformers import AutoTokenizer, AutoModelForSequenceClassification, AdamW\n",
    "from torch.utils.data import DataLoader, RandomSampler, SequentialSampler, TensorDataset\n",
    "from sklearn.metrics import accuracy_score, precision_score, recall_score, f1_score\n",
    "from concurrent.futures import ProcessPoolExecutor, as_completed\n",
    "from torch.utils.data import DataLoader\n",
    "from datasets import load_dataset\n",
    "from torch.utils.data import Dataset\n",
    "from typing import Dict, Sequence\n",
    "from dataclasses import dataclass\n",
    "from torch.nn import Softmax\n",
    "from Bio import SeqIO\n",
    "from torch import nn\n",
    "import transformers\n",
    "import numpy as np\n",
    "import threading\n",
    "import argparse\n",
    "import torch\n",
    "import csv\n",
    "import re\n",
    "import os"
   ]
  },
  {
   "cell_type": "code",
   "execution_count": 43,
   "id": "b29ecb89",
   "metadata": {},
   "outputs": [],
   "source": [
    "input_seq_file = \"C:/Users/anjan/Downloads/EGFR_datasets/ncbi_dataset/data/gene.fna\"\n",
    "mut_file = \"C:/Users/anjan/variant_data_egfr.csv\""
   ]
  },
  {
   "cell_type": "code",
   "execution_count": 44,
   "id": "1f613f7e",
   "metadata": {},
   "outputs": [],
   "source": [
    "mutations = []"
   ]
  },
  {
   "cell_type": "code",
   "execution_count": 50,
   "id": "301b7f81",
   "metadata": {},
   "outputs": [
    {
     "name": "stdout",
     "output_type": "stream",
     "text": [
      "193120\n",
      "55178937 55372056\n"
     ]
    }
   ],
   "source": [
    "for record in SeqIO.parse(input_seq_file, \"fasta\"):\n",
    "    sequence = record.seq\n",
    "    header = record.description\n",
    "    des = header.split(' ')\n",
    "    position = des[0].split(':')\n",
    "    start, end = position[1].split('-')\n",
    "print(len(sequence))\n",
    "print(start, end)\n",
    "start = int(start)\n",
    "end = int(end)"
   ]
  },
  {
   "cell_type": "code",
   "execution_count": 35,
   "id": "db82413a",
   "metadata": {},
   "outputs": [],
   "source": [
    "def get_alter_of_dna_sequence(sequence: str):\n",
    "    MAP = {\"A\": \"T\", \"T\": \"A\", \"C\": \"G\", \"G\": \"C\"}\n",
    "    # return \"\".join([MAP[c] for c in reversed(sequence)])\n",
    "    return \"\".join([MAP[c] for c in sequence])"
   ]
  },
  {
   "cell_type": "code",
   "execution_count": 36,
   "id": "2464b1c8",
   "metadata": {},
   "outputs": [],
   "source": [
    "sequence = get_alter_of_dna_sequence(sequence)"
   ]
  },
  {
   "cell_type": "code",
   "execution_count": 51,
   "id": "5ed73a59",
   "metadata": {},
   "outputs": [],
   "source": [
    "import vcf\n",
    "variant_data = \"C:/Users/anjan/Downloads/ClinVar variants with precise endpoints (6).VCF\"\n",
    "vcf_reader = vcf.Reader(open(variant_data, 'r'))\n",
    "variant = []\n",
    "\n",
    "# Iterate over each variant in the VCF file\n",
    "for record in vcf_reader:\n",
    "    # Access variant information using record attributes \n",
    "    if record.POS >= start and record.POS <= end:\n",
    "        variant.append({\n",
    "            \"variant_id\" : record.ID,\n",
    "            \"pos\" : record.POS,\n",
    "            \"ref\" : record.REF,\n",
    "            \"alt\" : record.ALT[0],\n",
    "            \"variant\": record.INFO[\"CLNVC\"][0]\n",
    "        })\n",
    "        \n",
    "fields = ['variant_id', 'pos', 'ref', 'alt', 'variant']\n",
    "\n",
    "with open(\"variant_data_egfr.csv\", 'w') as csvfile:\n",
    "    # creating a csv dict writer object\n",
    "    writer = csv.DictWriter(csvfile, fieldnames=fields, lineterminator = '\\n')\n",
    "    # writing headers (field names)\n",
    "    writer.writeheader()\n",
    "    writer.writerows(variant)"
   ]
  },
  {
   "cell_type": "code",
   "execution_count": 52,
   "id": "8d764b87",
   "metadata": {},
   "outputs": [],
   "source": [
    "# Read mutations from CSV file\n",
    "with open(mut_file , 'r') as csvfile:\n",
    "    reader = csv.reader(csvfile)\n",
    "    next(reader)  # Skip header if present\n",
    "    for row in reader:\n",
    "        if row:\n",
    "            start_position = int(row[1])-start\n",
    "            end_position = start_position\n",
    "            consequence = row[4]\n",
    "            ref = row[2]\n",
    "            alt = row[3]\n",
    "            mutations.append((start_position, ref, alt, consequence))"
   ]
  },
  {
   "cell_type": "code",
   "execution_count": 53,
   "id": "afe8be87",
   "metadata": {},
   "outputs": [
    {
     "name": "stdout",
     "output_type": "stream",
     "text": [
      "193149\n",
      "193120\n"
     ]
    }
   ],
   "source": [
    "snv = \"single_nucleotide_variant\"\n",
    "dup = \"Duplication\"\n",
    "ins = \"Insertion\"\n",
    "delt = \"Deletion\"\n",
    "last_index = 0\n",
    "def embed_mutations(sequence, mutations):\n",
    "    alt_length = 0\n",
    "    embedded_sequence = list(sequence)\n",
    "    seq = list(sequence)\n",
    "    mutation_embed = []\n",
    "    for mutation in mutations:\n",
    "        start_position, ref, alt, consequence = mutation\n",
    "        start_position = start_position + alt_length\n",
    "        if consequence == snv:\n",
    "            if embedded_sequence[start_position] == ref:\n",
    "                embedded_sequence[start_position] = alt\n",
    "                mutation_embed.append([start_position, start_position, consequence])\n",
    "        elif consequence == dup or consequence == ins:\n",
    "            if embedded_sequence[start_position] == ref:\n",
    "                embedded_sequence[start_position:start_position] = alt\n",
    "                mutation_embed.append([start_position, start_position+len(alt), consequence])\n",
    "                alt_length += len(alt)\n",
    "        elif consequence == delt:\n",
    "            if len(ref) > len(alt):\n",
    "                if ''.join(embedded_sequence[start_position:(start_position+len(ref))]) == ref:\n",
    "                    del embedded_sequence[start_position:start_position+len(ref)]\n",
    "                    mutation_embed.append([start_position, start_position+len(ref), consequence])\n",
    "                    alt_length -= len(ref)\n",
    "            else:\n",
    "                if ''.join(embedded_sequence[start_position:(start_position+len(alt))]) == ref:\n",
    "                    del embedded_sequence[start_position:start_position+len(alt)]\n",
    "                    mutation_embed.append([start_position, start_position+len(alt), consequence])\n",
    "                    alt_length -= len(alt)\n",
    "        \n",
    "    return ''.join(embedded_sequence), mutation_embed\n",
    "reference_sequence = sequence\n",
    "embedded_sequence, mutation_embed = embed_mutations(reference_sequence, mutations)\n",
    "print(len(embedded_sequence))\n",
    "print(len(reference_sequence))"
   ]
  },
  {
   "cell_type": "code",
   "execution_count": 54,
   "id": "7a6b9a03",
   "metadata": {},
   "outputs": [
    {
     "name": "stdout",
     "output_type": "stream",
     "text": [
      "378\n"
     ]
    }
   ],
   "source": [
    "def split_sequence_with_mutations(sequence, mutations, subsequence_length=512):\n",
    "    subsequences = []\n",
    "    for i in range(0, len(sequence), subsequence_length):\n",
    "        subsequence = sequence[i:i+subsequence_length]\n",
    "        mutation_vector = [0, 0, 0, 0]  # Initialize vector for SNV, Duplication, Deletion\n",
    "        for start_position, end_position, consequence in mutations:\n",
    "            if start_position < i + subsequence_length and start_position >= i:\n",
    "                if consequence == snv:\n",
    "                    mutation_vector[0] = 1\n",
    "                elif consequence == ins:\n",
    "                    mutation_vector[1] = 1\n",
    "                elif consequence == dup:\n",
    "                    mutation_vector[2] = 1\n",
    "                elif consequence == delt:\n",
    "                    mutation_vector[3] = 1\n",
    "        subsequences.append((subsequence, mutation_vector))\n",
    "    return subsequences\n",
    "subsequences_with_mutations = split_sequence_with_mutations(embedded_sequence, mutation_embed)\n",
    "subsequences_without_mutation = split_sequence_with_mutations(sequence, [])\n",
    "print(len(subsequences_without_mutation))\n"
   ]
  },
  {
   "cell_type": "code",
   "execution_count": 56,
   "id": "a17e4e5a",
   "metadata": {},
   "outputs": [],
   "source": [
    "def write_sequences_to_csv(subsequences_without_mutation, subsequences_with_mutations, output_file):\n",
    "    with open(output_file, 'w', newline='') as file:\n",
    "        writer = csv.writer(file)\n",
    "        writer.writerow(['Sequence', 'Mutation_Vector'])  # Write header for reference sequence\n",
    "#         for mutated_subsequence, mutation_vector in subsequences_without_mutation:\n",
    "#             writer.writerow([mutated_subsequence, mutation_vector])\n",
    "        \n",
    "        # Write mutated subsequences with mutation vectors\n",
    "        for mutated_subsequence, mutation_vector in subsequences_with_mutations:\n",
    "            writer.writerow([mutated_subsequence, mutation_vector])\n",
    "output_file = \"egfr.csv\"\n",
    "write_sequences_to_csv(subsequences_without_mutation, subsequences_with_mutations, output_file)"
   ]
  },
  {
   "cell_type": "code",
   "execution_count": 13,
   "id": "3c5a9ec0",
   "metadata": {},
   "outputs": [],
   "source": []
  },
  {
   "cell_type": "code",
   "execution_count": 14,
   "id": "8afe783b",
   "metadata": {},
   "outputs": [],
   "source": []
  },
  {
   "cell_type": "code",
   "execution_count": null,
   "id": "9ed73339",
   "metadata": {},
   "outputs": [],
   "source": []
  }
 ],
 "metadata": {
  "kernelspec": {
   "display_name": "Python 3",
   "language": "python",
   "name": "python3"
  },
  "language_info": {
   "codemirror_mode": {
    "name": "ipython",
    "version": 3
   },
   "file_extension": ".py",
   "mimetype": "text/x-python",
   "name": "python",
   "nbconvert_exporter": "python",
   "pygments_lexer": "ipython3",
   "version": "3.8.8"
  }
 },
 "nbformat": 4,
 "nbformat_minor": 5
}
